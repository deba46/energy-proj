{
 "cells": [
  {
   "cell_type": "code",
   "execution_count": 1,
   "id": "a86b2503",
   "metadata": {
    "execution": {
     "iopub.execute_input": "2025-06-29T17:21:09.252611Z",
     "iopub.status.busy": "2025-06-29T17:21:09.252465Z",
     "iopub.status.idle": "2025-06-29T17:21:09.257139Z",
     "shell.execute_reply": "2025-06-29T17:21:09.256653Z"
    },
    "papermill": {
     "duration": 0.011138,
     "end_time": "2025-06-29T17:21:09.258188",
     "exception": false,
     "start_time": "2025-06-29T17:21:09.247050",
     "status": "completed"
    },
    "tags": [
     "parameters"
    ]
   },
   "outputs": [],
   "source": [
    "hours = \"\""
   ]
  },
  {
   "cell_type": "code",
   "execution_count": 2,
   "id": "2a76e3aa",
   "metadata": {
    "execution": {
     "iopub.execute_input": "2025-06-29T17:21:09.284669Z",
     "iopub.status.busy": "2025-06-29T17:21:09.284517Z",
     "iopub.status.idle": "2025-06-29T17:21:09.286174Z",
     "shell.execute_reply": "2025-06-29T17:21:09.285952Z"
    },
    "papermill": {
     "duration": 0.013841,
     "end_time": "2025-06-29T17:21:09.286876",
     "exception": false,
     "start_time": "2025-06-29T17:21:09.273035",
     "status": "completed"
    },
    "tags": [
     "injected-parameters"
    ]
   },
   "outputs": [],
   "source": [
    "# Parameters\n",
    "hours = 24\n"
   ]
  },
  {
   "cell_type": "code",
   "execution_count": 3,
   "id": "de545a3e",
   "metadata": {
    "execution": {
     "iopub.execute_input": "2025-06-29T17:21:09.300995Z",
     "iopub.status.busy": "2025-06-29T17:21:09.300762Z",
     "iopub.status.idle": "2025-06-29T17:21:10.207414Z",
     "shell.execute_reply": "2025-06-29T17:21:10.207023Z"
    },
    "papermill": {
     "duration": 0.91297,
     "end_time": "2025-06-29T17:21:10.208693",
     "exception": false,
     "start_time": "2025-06-29T17:21:09.295723",
     "status": "completed"
    },
    "tags": []
   },
   "outputs": [],
   "source": [
    "import os\n",
    "import requests\n",
    "import json\n",
    "from dotenv import load_dotenv\n",
    "from datetime import datetime, timedelta, timezone\n",
    "from pyspark.sql import SparkSession\n",
    "from pyspark.sql.functions import explode, posexplode, col, size, from_unixtime, to_date, concat_ws, lit, sum\n",
    "from pyspark.sql.types import StructType, StructField, StringType, FloatType, BooleanType, ArrayType, LongType\n"
   ]
  },
  {
   "cell_type": "code",
   "execution_count": 4,
   "id": "194fa6af",
   "metadata": {
    "execution": {
     "iopub.execute_input": "2025-06-29T17:21:10.218903Z",
     "iopub.status.busy": "2025-06-29T17:21:10.218649Z",
     "iopub.status.idle": "2025-06-29T17:21:10.222061Z",
     "shell.execute_reply": "2025-06-29T17:21:10.221506Z"
    },
    "papermill": {
     "duration": 0.011746,
     "end_time": "2025-06-29T17:21:10.223118",
     "exception": false,
     "start_time": "2025-06-29T17:21:10.211372",
     "status": "completed"
    },
    "tags": []
   },
   "outputs": [],
   "source": [
    "load_dotenv()\n",
    "os.environ[\"JAVA_HOME\"] = \"/opt/homebrew/opt/openjdk@17/libexec/openjdk.jdk/Contents/Home\"\n"
   ]
  },
  {
   "cell_type": "code",
   "execution_count": 5,
   "id": "3f56f8e1",
   "metadata": {
    "execution": {
     "iopub.execute_input": "2025-06-29T17:21:10.243671Z",
     "iopub.status.busy": "2025-06-29T17:21:10.243490Z",
     "iopub.status.idle": "2025-06-29T17:21:10.246197Z",
     "shell.execute_reply": "2025-06-29T17:21:10.245916Z"
    },
    "papermill": {
     "duration": 0.009702,
     "end_time": "2025-06-29T17:21:10.247087",
     "exception": false,
     "start_time": "2025-06-29T17:21:10.237385",
     "status": "completed"
    },
    "tags": []
   },
   "outputs": [],
   "source": [
    "# Get Jar path needed for spark session\n",
    "# For simplicity using locally downloaded jars for delta format\n",
    "cwd = os.getcwd()\n",
    "if cwd.endswith(\"notebooks\"):\n",
    "    proj_dir = os.path.abspath(\"..\")\n",
    "else:\n",
    "    proj_dir = cwd\n",
    "jar_dir = os.path.join(proj_dir, \"jars\")\n",
    "jar1 = os.path.join(jar_dir, \"delta-spark_2.13-4.0.0.jar\")\n",
    "jar2 = os.path.join(jar_dir, \"delta-storage-4.0.0.jar\")"
   ]
  },
  {
   "cell_type": "code",
   "execution_count": 6,
   "id": "9c99023a",
   "metadata": {
    "execution": {
     "iopub.execute_input": "2025-06-29T17:21:10.256873Z",
     "iopub.status.busy": "2025-06-29T17:21:10.256730Z",
     "iopub.status.idle": "2025-06-29T17:21:32.573953Z",
     "shell.execute_reply": "2025-06-29T17:21:32.573645Z"
    },
    "papermill": {
     "duration": 22.323019,
     "end_time": "2025-06-29T17:21:32.574801",
     "exception": false,
     "start_time": "2025-06-29T17:21:10.251782",
     "status": "completed"
    },
    "tags": []
   },
   "outputs": [
    {
     "name": "stderr",
     "output_type": "stream",
     "text": [
      "WARNING: Using incubator modules: jdk.incubator.vector\n"
     ]
    },
    {
     "name": "stderr",
     "output_type": "stream",
     "text": [
      "25/06/29 19:21:27 WARN NativeCodeLoader: Unable to load native-hadoop library for your platform... using builtin-java classes where applicable\n",
      "Using Spark's default log4j profile: org/apache/spark/log4j2-defaults.properties\n",
      "Setting default log level to \"WARN\".\n",
      "To adjust logging level use sc.setLogLevel(newLevel). For SparkR, use setLogLevel(newLevel).\n"
     ]
    }
   ],
   "source": [
    "spark = SparkSession.builder.appName(\"EnergyUseCase\") \\\n",
    "            .config(\"spark.jars\", f\"{jar1},{jar2}\") \\\n",
    "            .config(\"spark.sql.extensions\", \"io.delta.sql.DeltaSparkSessionExtension\") \\\n",
    "            .config(\"spark.sql.catalog.spark_catalog\", \"org.apache.spark.sql.delta.catalog.DeltaCatalog\") \\\n",
    "            .getOrCreate()\n",
    "\n"
   ]
  },
  {
   "cell_type": "markdown",
   "id": "7ceebeed",
   "metadata": {
    "papermill": {
     "duration": 0.00912,
     "end_time": "2025-06-29T17:21:32.596715",
     "exception": false,
     "start_time": "2025-06-29T17:21:32.587595",
     "status": "completed"
    },
    "tags": []
   },
   "source": [
    "## Data Ingestion"
   ]
  },
  {
   "cell_type": "code",
   "execution_count": 7,
   "id": "234c647d",
   "metadata": {
    "execution": {
     "iopub.execute_input": "2025-06-29T17:21:32.617037Z",
     "iopub.status.busy": "2025-06-29T17:21:32.616801Z",
     "iopub.status.idle": "2025-06-29T17:21:32.619292Z",
     "shell.execute_reply": "2025-06-29T17:21:32.619002Z"
    },
    "papermill": {
     "duration": 0.013496,
     "end_time": "2025-06-29T17:21:32.620044",
     "exception": false,
     "start_time": "2025-06-29T17:21:32.606548",
     "status": "completed"
    },
    "tags": []
   },
   "outputs": [],
   "source": [
    "# API Configuration\n",
    "BASE_URL = \"https://api.energy-charts.info\"\n",
    "ENDPOINT_CONFIG = {\n",
    "    \"public_power\": {\n",
    "        \"path\": \"/public_power\",\n",
    "        \"params\": [\"country\", \"start\", \"end\"]\n",
    "    },\n",
    "    \"installed_power\": {\n",
    "        \"path\": \"/installed_power\",\n",
    "        \"params\": [\"country\", \"time_step\", \"installation_decommission\"]\n",
    "    },\n",
    "    \"price\": {\n",
    "        \"path\": \"/price\",\n",
    "        \"params\": [\"bzn\", \"start\", \"end\"]\n",
    "    },\n",
    "}"
   ]
  },
  {
   "cell_type": "code",
   "execution_count": 8,
   "id": "d289ebd5",
   "metadata": {
    "execution": {
     "iopub.execute_input": "2025-06-29T17:21:32.631777Z",
     "iopub.status.busy": "2025-06-29T17:21:32.631656Z",
     "iopub.status.idle": "2025-06-29T17:21:32.633837Z",
     "shell.execute_reply": "2025-06-29T17:21:32.633584Z"
    },
    "papermill": {
     "duration": 0.009832,
     "end_time": "2025-06-29T17:21:32.634572",
     "exception": false,
     "start_time": "2025-06-29T17:21:32.624740",
     "status": "completed"
    },
    "tags": []
   },
   "outputs": [],
   "source": [
    "# Pipeline Parameters\n",
    "now_utc = datetime.now(timezone.utc)\n",
    "back_utc = now_utc - timedelta(hours=hours)  # <- set it here when running notebook locally\n",
    "start_time = back_utc.strftime(\"%Y-%m-%d %H:%M:%S\")\n",
    "end_time = now_utc.strftime(\"%Y-%m-%d %H:%M:%S\")\n",
    "# For Testing locally fetched 2 months data\n",
    "#start_time = \"2025-04-01 00:00\"\n",
    "#end_time = \"2025-05-30 23:59\"\n",
    "country = \"de\"\n",
    "bidding_zone = \"DE-LU\""
   ]
  },
  {
   "cell_type": "code",
   "execution_count": 9,
   "id": "5380963d",
   "metadata": {
    "execution": {
     "iopub.execute_input": "2025-06-29T17:21:32.647104Z",
     "iopub.status.busy": "2025-06-29T17:21:32.646879Z",
     "iopub.status.idle": "2025-06-29T17:21:32.650193Z",
     "shell.execute_reply": "2025-06-29T17:21:32.649937Z"
    },
    "papermill": {
     "duration": 0.011595,
     "end_time": "2025-06-29T17:21:32.650829",
     "exception": false,
     "start_time": "2025-06-29T17:21:32.639234",
     "status": "completed"
    },
    "tags": []
   },
   "outputs": [],
   "source": [
    "def fetch_api_data(endpoint_name, **kwargs):\n",
    "    \"\"\"\n",
    "    Fetch JSON data from the energy charts \n",
    "    \"\"\"\n",
    "\n",
    "    if endpoint_name not in ENDPOINT_CONFIG:\n",
    "        raise ValueError(f\"Unsupported endpoint: {endpoint_name}\")\n",
    "    \n",
    "    config = ENDPOINT_CONFIG[endpoint_name]\n",
    "    path = config[\"path\"]\n",
    "    required_params = config[\"params\"]\n",
    "    missing = [p for p in required_params if p not in kwargs]\n",
    "    if missing:\n",
    "        raise ValueError(f\"Missing required params: {missing} for endpoint '{endpoint_name}'\")\n",
    "    params = {k: v for k, v in kwargs.items() if k in required_params}\n",
    "    url = f\"{BASE_URL}{path}\"\n",
    "    try:\n",
    "        print(f\"Fetching data from api with these params - {params}\")\n",
    "        response = requests.get(url, params=params, verify=False)\n",
    "        print(f\"Status Code: {response.status_code}\")\n",
    "        data = response.json() \n",
    "        if not data:\n",
    "            print(\"Empty response received.\")\n",
    "            return None\n",
    "        return data\n",
    "    except Exception as e:\n",
    "        print(f\"Unexpected error: {e}\")\n",
    "        return None"
   ]
  },
  {
   "cell_type": "markdown",
   "id": "e7263251",
   "metadata": {
    "papermill": {
     "duration": 0.003781,
     "end_time": "2025-06-29T17:21:32.658872",
     "exception": false,
     "start_time": "2025-06-29T17:21:32.655091",
     "status": "completed"
    },
    "tags": []
   },
   "source": [
    "## Get public power data"
   ]
  },
  {
   "cell_type": "code",
   "execution_count": 10,
   "id": "343ecd30",
   "metadata": {
    "execution": {
     "iopub.execute_input": "2025-06-29T17:21:32.671148Z",
     "iopub.status.busy": "2025-06-29T17:21:32.670997Z",
     "iopub.status.idle": "2025-06-29T17:21:35.865857Z",
     "shell.execute_reply": "2025-06-29T17:21:35.865580Z"
    },
    "papermill": {
     "duration": 3.20022,
     "end_time": "2025-06-29T17:21:35.866605",
     "exception": false,
     "start_time": "2025-06-29T17:21:32.666385",
     "status": "completed"
    },
    "tags": []
   },
   "outputs": [
    {
     "name": "stdout",
     "output_type": "stream",
     "text": [
      "Fetching data from api with these params - {'country': 'de', 'start': '2025-06-28 17:21:32', 'end': '2025-06-29 17:21:32'}\n"
     ]
    },
    {
     "name": "stderr",
     "output_type": "stream",
     "text": [
      "/opt/miniconda3/envs/energy/lib/python3.11/site-packages/urllib3/connectionpool.py:1097: InsecureRequestWarning: Unverified HTTPS request is being made to host 'api.energy-charts.info'. Adding certificate verification is strongly advised. See: https://urllib3.readthedocs.io/en/latest/advanced-usage.html#tls-warnings\n",
      "  warnings.warn(\n"
     ]
    },
    {
     "name": "stdout",
     "output_type": "stream",
     "text": [
      "Status Code: 200\n"
     ]
    },
    {
     "name": "stderr",
     "output_type": "stream",
     "text": [
      "\r",
      "[Stage 0:>                                                          (0 + 1) / 1]\r"
     ]
    },
    {
     "name": "stderr",
     "output_type": "stream",
     "text": [
      "\r",
      "                                                                                \r"
     ]
    },
    {
     "name": "stdout",
     "output_type": "stream",
     "text": [
      "+--------------------+--------------------+----------+\n",
      "|        unix_seconds|    production_types|deprecated|\n",
      "+--------------------+--------------------+----------+\n",
      "|[1751124600, 1751...|[{Hydro pumped st...|     false|\n",
      "+--------------------+--------------------+----------+\n",
      "\n"
     ]
    }
   ],
   "source": [
    "# Fetch public power\n",
    "public_power = fetch_api_data(\"public_power\",\n",
    "                            country=country,\n",
    "                            start=start_time,\n",
    "                            end=end_time\n",
    "                        )\n",
    "# Create raw dataframe \n",
    "if public_power is not None and isinstance(public_power, dict):\n",
    "    # Define expected schema\n",
    "    public_power_schema = StructType([\n",
    "        StructField(\"unix_seconds\", ArrayType(LongType()), True),\n",
    "        StructField(\"production_types\", ArrayType(\n",
    "            StructType([\n",
    "                StructField(\"name\", StringType(), True),\n",
    "                StructField(\"data\", ArrayType(FloatType()), True)\n",
    "            ])\n",
    "        ), True),\n",
    "        StructField(\"deprecated\", BooleanType(), True)\n",
    "    ])\n",
    "    public_power_df = spark.createDataFrame([public_power], schema=public_power_schema)\n",
    "    public_power_df.show(3)"
   ]
  },
  {
   "cell_type": "code",
   "execution_count": 11,
   "id": "3e5db9f2",
   "metadata": {
    "execution": {
     "iopub.execute_input": "2025-06-29T17:21:35.883145Z",
     "iopub.status.busy": "2025-06-29T17:21:35.883020Z",
     "iopub.status.idle": "2025-06-29T17:21:39.608727Z",
     "shell.execute_reply": "2025-06-29T17:21:39.608439Z"
    },
    "papermill": {
     "duration": 3.74043,
     "end_time": "2025-06-29T17:21:39.609542",
     "exception": false,
     "start_time": "2025-06-29T17:21:35.869112",
     "status": "completed"
    },
    "tags": []
   },
   "outputs": [
    {
     "name": "stderr",
     "output_type": "stream",
     "text": [
      "\r",
      "[Stage 3:====================================================>     (9 + 1) / 10]\r"
     ]
    },
    {
     "name": "stderr",
     "output_type": "stream",
     "text": [
      "\r",
      "[Stage 5:>                                                          (0 + 1) / 1]\r"
     ]
    },
    {
     "name": "stderr",
     "output_type": "stream",
     "text": [
      "\r",
      "                                                                                \r"
     ]
    },
    {
     "name": "stdout",
     "output_type": "stream",
     "text": [
      "+--------------------+------------------+-------------------+\n",
      "|     production_type|net_power_produced|          timestamp|\n",
      "+--------------------+------------------+-------------------+\n",
      "|Fossil brown coal...|            5366.6|2025-06-28 22:30:00|\n",
      "|Fossil brown coal...|            5429.7|2025-06-28 23:45:00|\n",
      "+--------------------+------------------+-------------------+\n",
      "only showing top 2 rows\n",
      "root\n",
      " |-- production_type: string (nullable = true)\n",
      " |-- net_power_produced: float (nullable = true)\n",
      " |-- timestamp: timestamp (nullable = true)\n",
      "\n"
     ]
    }
   ],
   "source": [
    "\n",
    "\"\"\" \n",
    "Transform public power data and write to storage \n",
    "\"\"\"\n",
    "public_power_df = public_power_df.withColumn(\"production_type\", explode(\"production_types\"))\n",
    "public_power_df = public_power_df.select(\n",
    "                col(\"unix_seconds\"),\n",
    "                col(\"production_type.name\").alias(\"production_type\"),\n",
    "                posexplode(col(\"production_type.data\")).alias(\"pos\", \"value\")\n",
    "                )\n",
    "# Handle edge cases such as more data points / missing ts for data points\n",
    "public_power_df = public_power_df.filter(col(\"pos\") < size(col(\"unix_seconds\")))\n",
    "public_power_df = public_power_df.withColumn(\"ts\", col(\"unix_seconds\")[col(\"pos\")])\n",
    "public_power_df = public_power_df.select(\"ts\", \n",
    "                                    \"production_type\", \n",
    "                                    col(\"value\").alias(\"net_power_produced\"))\n",
    "public_power_data = public_power_df.withColumn(\"timestamp\", from_unixtime(col(\"ts\")).cast(\"timestamp\")).drop(\"ts\") \n",
    "public_power_data = public_power_data.dropDuplicates() \n",
    "# Write to storage in Delta format\n",
    "public_power_data.write \\\n",
    "                .format(\"delta\") \\\n",
    "                .mode(\"append\") \\\n",
    "                .option(\"mergeSchema\", \"true\") \\\n",
    "                .partitionBy(\"production_type\") \\\n",
    "                .save(f\"{proj_dir}/data/silver/public_power_data\")  \n",
    "\n",
    "public_power_data.show(2)\n",
    "public_power_data.printSchema()\n"
   ]
  },
  {
   "cell_type": "code",
   "execution_count": 12,
   "id": "e9de9c48",
   "metadata": {
    "execution": {
     "iopub.execute_input": "2025-06-29T17:21:39.630799Z",
     "iopub.status.busy": "2025-06-29T17:21:39.630619Z",
     "iopub.status.idle": "2025-06-29T17:21:39.632549Z",
     "shell.execute_reply": "2025-06-29T17:21:39.632234Z"
    },
    "papermill": {
     "duration": 0.014847,
     "end_time": "2025-06-29T17:21:39.633369",
     "exception": false,
     "start_time": "2025-06-29T17:21:39.618522",
     "status": "completed"
    },
    "tags": []
   },
   "outputs": [],
   "source": [
    "#public_power_data.select(\"timestamp\").distinct().sort(\"timestamp\").show(50)\n"
   ]
  },
  {
   "cell_type": "markdown",
   "id": "ac780720",
   "metadata": {
    "papermill": {
     "duration": 0.004013,
     "end_time": "2025-06-29T17:21:39.642267",
     "exception": false,
     "start_time": "2025-06-29T17:21:39.638254",
     "status": "completed"
    },
    "tags": []
   },
   "source": [
    "## Get Price Data"
   ]
  },
  {
   "cell_type": "code",
   "execution_count": 13,
   "id": "c8662067",
   "metadata": {
    "execution": {
     "iopub.execute_input": "2025-06-29T17:21:39.651255Z",
     "iopub.status.busy": "2025-06-29T17:21:39.651126Z",
     "iopub.status.idle": "2025-06-29T17:21:40.339568Z",
     "shell.execute_reply": "2025-06-29T17:21:40.339304Z"
    },
    "papermill": {
     "duration": 0.694089,
     "end_time": "2025-06-29T17:21:40.340328",
     "exception": false,
     "start_time": "2025-06-29T17:21:39.646239",
     "status": "completed"
    },
    "tags": []
   },
   "outputs": [
    {
     "name": "stdout",
     "output_type": "stream",
     "text": [
      "Fetching data from api with these params - {'bzn': 'DE-LU', 'start': '2025-06-28 17:21:32', 'end': '2025-06-29 17:21:32'}\n"
     ]
    },
    {
     "name": "stderr",
     "output_type": "stream",
     "text": [
      "/opt/miniconda3/envs/energy/lib/python3.11/site-packages/urllib3/connectionpool.py:1097: InsecureRequestWarning: Unverified HTTPS request is being made to host 'api.energy-charts.info'. Adding certificate verification is strongly advised. See: https://urllib3.readthedocs.io/en/latest/advanced-usage.html#tls-warnings\n",
      "  warnings.warn(\n"
     ]
    },
    {
     "name": "stdout",
     "output_type": "stream",
     "text": [
      "Status Code: 200\n"
     ]
    },
    {
     "name": "stdout",
     "output_type": "stream",
     "text": [
      "+--------------------+--------------------+--------------------+---------+----------+\n",
      "|        license_info|        unix_seconds|               price|     unit|deprecated|\n",
      "+--------------------+--------------------+--------------------+---------+----------+\n",
      "|CC BY 4.0 (creati...|[1751126400, 1751...|[62.73, 95.03, 10...|EUR / MWh|     false|\n",
      "+--------------------+--------------------+--------------------+---------+----------+\n",
      "\n"
     ]
    }
   ],
   "source": [
    "# Fetch price data\n",
    "price_data = fetch_api_data(\"price\",\n",
    "                            bzn=bidding_zone,\n",
    "                            start=start_time,\n",
    "                            end=end_time\n",
    "                       )\n",
    "# Create raw dataframe \n",
    "if price_data is not None and isinstance(price_data, dict):\n",
    "    # Define price schema\n",
    "    price_data_schema = StructType([\n",
    "        StructField(\"license_info\", StringType(), True),\n",
    "        StructField(\"unix_seconds\", ArrayType(LongType()), True),\n",
    "        StructField(\"price\", ArrayType(FloatType()), True),\n",
    "        StructField(\"unit\", StringType(), True),\n",
    "        StructField(\"deprecated\", BooleanType(), True)\n",
    "    ])\n",
    "    price_df = spark.createDataFrame([price_data], schema=price_data_schema)\n",
    "    price_df.show(3)"
   ]
  },
  {
   "cell_type": "code",
   "execution_count": 14,
   "id": "4a0136f6",
   "metadata": {
    "execution": {
     "iopub.execute_input": "2025-06-29T17:21:40.364488Z",
     "iopub.status.busy": "2025-06-29T17:21:40.364318Z",
     "iopub.status.idle": "2025-06-29T17:21:42.679218Z",
     "shell.execute_reply": "2025-06-29T17:21:42.678968Z"
    },
    "papermill": {
     "duration": 2.327058,
     "end_time": "2025-06-29T17:21:42.679993",
     "exception": false,
     "start_time": "2025-06-29T17:21:40.352935",
     "status": "completed"
    },
    "tags": []
   },
   "outputs": [
    {
     "name": "stderr",
     "output_type": "stream",
     "text": [
      "25/06/29 19:21:41 WARN SparkStringUtils: Truncated the string representation of a plan since it was too large. This behavior can be adjusted by setting 'spark.sql.debug.maxToStringFields'.\n"
     ]
    },
    {
     "name": "stdout",
     "output_type": "stream",
     "text": [
      "+-----+-------------------+\n",
      "|price|          timestamp|\n",
      "+-----+-------------------+\n",
      "| -5.4|2025-06-29 12:00:00|\n",
      "|95.07|2025-06-29 00:00:00|\n",
      "+-----+-------------------+\n",
      "only showing top 2 rows\n",
      "root\n",
      " |-- price: float (nullable = true)\n",
      " |-- timestamp: timestamp (nullable = true)\n",
      "\n"
     ]
    }
   ],
   "source": [
    "\"\"\" Transform price data \"\"\"\n",
    "price_df = price_df.select(\n",
    "                posexplode(\"unix_seconds\").alias(\"pos\", \"unix_ts\"),\n",
    "                col(\"price\")[col(\"pos\")].alias(\"price\")\n",
    "            )\n",
    "price_data = price_df.withColumn(\"timestamp\", from_unixtime(col(\"unix_ts\")).cast(\"timestamp\")).drop(\"unix_ts\", \"pos\")\n",
    "price_data = price_data.dropDuplicates()\n",
    "\n",
    "# Write to storage in Delta format\n",
    "price_data.write \\\n",
    "            .format(\"delta\") \\\n",
    "            .mode(\"append\") \\\n",
    "            .option(\"mergeSchema\", \"true\") \\\n",
    "            .save(f\"{proj_dir}/data/silver/price_data\") \n",
    "\n",
    "price_data.show(2)\n",
    "price_data.printSchema()"
   ]
  }
 ],
 "metadata": {
  "kernelspec": {
   "display_name": "energy",
   "language": "python",
   "name": "python3"
  },
  "language_info": {
   "codemirror_mode": {
    "name": "ipython",
    "version": 3
   },
   "file_extension": ".py",
   "mimetype": "text/x-python",
   "name": "python",
   "nbconvert_exporter": "python",
   "pygments_lexer": "ipython3",
   "version": "3.11.13"
  },
  "papermill": {
   "default_parameters": {},
   "duration": 37.326988,
   "end_time": "2025-06-29T17:21:44.418205",
   "environment_variables": {},
   "exception": null,
   "input_path": "/Users/zodenath/Desktop/projects/energy-proj/notebooks/daily_ingest.ipynb",
   "output_path": "/Users/zodenath/Desktop/projects/energy-proj/output/out_daily_2025-06-29.ipynb",
   "parameters": {
    "hours": 24
   },
   "start_time": "2025-06-29T17:21:07.091217",
   "version": "2.6.0"
  }
 },
 "nbformat": 4,
 "nbformat_minor": 5
}