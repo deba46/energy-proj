{
 "cells": [
  {
   "cell_type": "markdown",
   "id": "588f575e",
   "metadata": {
    "papermill": {
     "duration": 0.007978,
     "end_time": "2025-06-29T17:22:06.337414",
     "exception": false,
     "start_time": "2025-06-29T17:22:06.329436",
     "status": "completed"
    },
    "tags": []
   },
   "source": [
    "Sample BI queries\n",
    "- Trend of daily public net electricity production in Germany for each production type. \n",
    "- Prediction of underperformance of public net electricity on 30min intervals.\n",
    "- Analysis of daily price against the net power for offshore and onshore wind (= production_type)"
   ]
  },
  {
   "cell_type": "code",
   "execution_count": 1,
   "id": "727b108e",
   "metadata": {
    "execution": {
     "iopub.execute_input": "2025-06-29T17:22:06.368981Z",
     "iopub.status.busy": "2025-06-29T17:22:06.368620Z",
     "iopub.status.idle": "2025-06-29T17:22:06.531600Z",
     "shell.execute_reply": "2025-06-29T17:22:06.531253Z"
    },
    "papermill": {
     "duration": 0.179066,
     "end_time": "2025-06-29T17:22:06.532811",
     "exception": false,
     "start_time": "2025-06-29T17:22:06.353745",
     "status": "completed"
    },
    "tags": []
   },
   "outputs": [],
   "source": [
    "import os\n",
    "from dotenv import load_dotenv\n",
    "from pyspark.sql import SparkSession\n",
    "from pyspark.sql.functions import trunc,avg"
   ]
  },
  {
   "cell_type": "code",
   "execution_count": 2,
   "id": "641f7429",
   "metadata": {
    "execution": {
     "iopub.execute_input": "2025-06-29T17:22:06.547770Z",
     "iopub.status.busy": "2025-06-29T17:22:06.547575Z",
     "iopub.status.idle": "2025-06-29T17:22:06.550480Z",
     "shell.execute_reply": "2025-06-29T17:22:06.550132Z"
    },
    "papermill": {
     "duration": 0.016156,
     "end_time": "2025-06-29T17:22:06.551329",
     "exception": false,
     "start_time": "2025-06-29T17:22:06.535173",
     "status": "completed"
    },
    "tags": []
   },
   "outputs": [],
   "source": [
    "# Get Jar path needed for spark session\n",
    "# For simplicity using locally downloaded jars for delta format\n",
    "cwd = os.getcwd()\n",
    "if cwd.endswith(\"notebooks\"):\n",
    "    proj_dir = os.path.abspath(\"..\")\n",
    "else:\n",
    "    proj_dir = cwd\n",
    "jar_dir = os.path.join(proj_dir, \"jars\")\n",
    "jar1 = os.path.join(jar_dir, \"delta-spark_2.13-4.0.0.jar\")\n",
    "jar2 = os.path.join(jar_dir, \"delta-storage-4.0.0.jar\")"
   ]
  },
  {
   "cell_type": "code",
   "execution_count": 3,
   "id": "0d9c42fd",
   "metadata": {
    "execution": {
     "iopub.execute_input": "2025-06-29T17:22:06.569033Z",
     "iopub.status.busy": "2025-06-29T17:22:06.568857Z",
     "iopub.status.idle": "2025-06-29T17:22:14.788609Z",
     "shell.execute_reply": "2025-06-29T17:22:14.788270Z"
    },
    "papermill": {
     "duration": 8.22813,
     "end_time": "2025-06-29T17:22:14.789631",
     "exception": false,
     "start_time": "2025-06-29T17:22:06.561501",
     "status": "completed"
    },
    "tags": []
   },
   "outputs": [
    {
     "name": "stderr",
     "output_type": "stream",
     "text": [
      "WARNING: Using incubator modules: jdk.incubator.vector\n"
     ]
    },
    {
     "name": "stderr",
     "output_type": "stream",
     "text": [
      "25/06/29 19:22:12 WARN NativeCodeLoader: Unable to load native-hadoop library for your platform... using builtin-java classes where applicable\n",
      "Using Spark's default log4j profile: org/apache/spark/log4j2-defaults.properties\n",
      "Setting default log level to \"WARN\".\n",
      "To adjust logging level use sc.setLogLevel(newLevel). For SparkR, use setLogLevel(newLevel).\n"
     ]
    }
   ],
   "source": [
    "spark = SparkSession.builder.appName(\"EnergyBI_Insights\") \\\n",
    "            .config(\"spark.jars\", f\"{jar1},{jar2}\") \\\n",
    "            .config(\"spark.sql.extensions\", \"io.delta.sql.DeltaSparkSessionExtension\") \\\n",
    "            .config(\"spark.sql.catalog.spark_catalog\", \"org.apache.spark.sql.delta.catalog.DeltaCatalog\") \\\n",
    "            .config(\"spark.sql.warehouse.dir\", f\"{proj_dir}/data-warehouse\") \\\n",
    "            .getOrCreate()\n"
   ]
  },
  {
   "cell_type": "code",
   "execution_count": 4,
   "id": "2f5d39bc",
   "metadata": {
    "execution": {
     "iopub.execute_input": "2025-06-29T17:22:14.806397Z",
     "iopub.status.busy": "2025-06-29T17:22:14.806221Z",
     "iopub.status.idle": "2025-06-29T17:22:14.930964Z",
     "shell.execute_reply": "2025-06-29T17:22:14.930706Z"
    },
    "papermill": {
     "duration": 0.139649,
     "end_time": "2025-06-29T17:22:14.931717",
     "exception": false,
     "start_time": "2025-06-29T17:22:14.792068",
     "status": "completed"
    },
    "tags": []
   },
   "outputs": [
    {
     "data": {
      "text/plain": [
       "'file:/Users/zodenath/Desktop/projects/energy-proj/data-warehouse'"
      ]
     },
     "execution_count": 4,
     "metadata": {},
     "output_type": "execute_result"
    }
   ],
   "source": [
    "spark.conf.get(\"spark.sql.warehouse.dir\")"
   ]
  },
  {
   "cell_type": "markdown",
   "id": "5906da68",
   "metadata": {
    "papermill": {
     "duration": 0.008682,
     "end_time": "2025-06-29T17:22:14.952802",
     "exception": false,
     "start_time": "2025-06-29T17:22:14.944120",
     "status": "completed"
    },
    "tags": []
   },
   "source": [
    "## Loading data to SQL warehouse"
   ]
  },
  {
   "cell_type": "code",
   "execution_count": 5,
   "id": "73aa5c71",
   "metadata": {
    "execution": {
     "iopub.execute_input": "2025-06-29T17:22:14.969405Z",
     "iopub.status.busy": "2025-06-29T17:22:14.969163Z",
     "iopub.status.idle": "2025-06-29T17:22:15.572581Z",
     "shell.execute_reply": "2025-06-29T17:22:15.572312Z"
    },
    "papermill": {
     "duration": 0.611863,
     "end_time": "2025-06-29T17:22:15.573331",
     "exception": false,
     "start_time": "2025-06-29T17:22:14.961468",
     "status": "completed"
    },
    "tags": []
   },
   "outputs": [
    {
     "data": {
      "text/plain": [
       "DataFrame[]"
      ]
     },
     "execution_count": 5,
     "metadata": {},
     "output_type": "execute_result"
    }
   ],
   "source": [
    "spark.sql(\"\"\" CREATE SCHEMA IF NOT EXISTS energy \"\"\")"
   ]
  },
  {
   "cell_type": "code",
   "execution_count": 6,
   "id": "96964f1d",
   "metadata": {
    "execution": {
     "iopub.execute_input": "2025-06-29T17:22:15.595493Z",
     "iopub.status.busy": "2025-06-29T17:22:15.595305Z",
     "iopub.status.idle": "2025-06-29T17:22:15.963504Z",
     "shell.execute_reply": "2025-06-29T17:22:15.963274Z"
    },
    "papermill": {
     "duration": 0.377903,
     "end_time": "2025-06-29T17:22:15.964280",
     "exception": false,
     "start_time": "2025-06-29T17:22:15.586377",
     "status": "completed"
    },
    "tags": []
   },
   "outputs": [
    {
     "data": {
      "text/plain": [
       "DataFrame[]"
      ]
     },
     "execution_count": 6,
     "metadata": {},
     "output_type": "execute_result"
    }
   ],
   "source": [
    "data_lake_path = f\"{proj_dir}/data/silver/public_power_data\"\n",
    "\n",
    "spark.sql(f\"\"\"\n",
    "            CREATE TABLE IF NOT EXISTS energy.public_power_data\n",
    "            USING DELTA\n",
    "            LOCATION '{data_lake_path}'\n",
    "\"\"\")\n",
    "\n",
    "price_lake_path = f\"{proj_dir}/data/silver/price_data\"\n",
    "\n",
    "spark.sql(f\"\"\"\n",
    "            CREATE TABLE IF NOT EXISTS energy.price\n",
    "            USING DELTA\n",
    "            LOCATION '{price_lake_path}'\n",
    "\"\"\")\n",
    "\n",
    "installed_lake_path = f\"{proj_dir}/data/silver/public_power_data\"\n",
    "\n",
    "spark.sql(f\"\"\"\n",
    "            CREATE TABLE IF NOT EXISTS energy.installed_power_data\n",
    "            USING DELTA\n",
    "            LOCATION '{installed_lake_path}'\n",
    "\"\"\")\n",
    "\n"
   ]
  },
  {
   "cell_type": "code",
   "execution_count": 7,
   "id": "515d61be",
   "metadata": {
    "execution": {
     "iopub.execute_input": "2025-06-29T17:22:15.986167Z",
     "iopub.status.busy": "2025-06-29T17:22:15.986046Z",
     "iopub.status.idle": "2025-06-29T17:22:21.352343Z",
     "shell.execute_reply": "2025-06-29T17:22:21.352024Z"
    },
    "papermill": {
     "duration": 5.37662,
     "end_time": "2025-06-29T17:22:21.353146",
     "exception": false,
     "start_time": "2025-06-29T17:22:15.976526",
     "status": "completed"
    },
    "tags": []
   },
   "outputs": [
    {
     "name": "stderr",
     "output_type": "stream",
     "text": [
      "25/06/29 19:22:16 WARN SparkStringUtils: Truncated the string representation of a plan since it was too large. This behavior can be adjusted by setting 'spark.sql.debug.maxToStringFields'.\n"
     ]
    },
    {
     "name": "stderr",
     "output_type": "stream",
     "text": [
      "\r",
      "[Stage 0:==================================================>        (6 + 1) / 7]\r"
     ]
    },
    {
     "name": "stderr",
     "output_type": "stream",
     "text": [
      "\r",
      "[Stage 2:=====>                                                   (5 + 11) / 50]\r"
     ]
    },
    {
     "name": "stderr",
     "output_type": "stream",
     "text": [
      "\r",
      "[Stage 2:===============================>                        (28 + 11) / 50]\r"
     ]
    },
    {
     "name": "stderr",
     "output_type": "stream",
     "text": [
      "\r",
      "                                                                                \r"
     ]
    },
    {
     "name": "stderr",
     "output_type": "stream",
     "text": [
      "\r",
      "[Stage 8:=====>                                                    (1 + 9) / 10]\r",
      "\r",
      "[Stage 8:========================================>                 (7 + 3) / 10]\r"
     ]
    },
    {
     "name": "stderr",
     "output_type": "stream",
     "text": [
      "\r",
      "[Stage 8:==============================================>           (8 + 2) / 10]\r",
      "\r",
      "                                                                                \r"
     ]
    },
    {
     "name": "stdout",
     "output_type": "stream",
     "text": [
      "+----------+--------------------+--------------------+\n",
      "|      date|     production_type|daily_net_production|\n",
      "+----------+--------------------+--------------------+\n",
      "|2025-04-01|             Biomass|   395143.2001953125|\n",
      "|2025-04-01|Cross border elec...|  218034.29940795898|\n",
      "|2025-04-01|Fossil brown coal...|   934869.3037109375|\n",
      "|2025-04-01|Fossil coal-deriv...|   59497.80001831055|\n",
      "|2025-04-01|          Fossil gas|   576568.5981445312|\n",
      "|2025-04-01|    Fossil hard coal|   400229.3992919922|\n",
      "|2025-04-01|          Fossil oil|    32854.1008605957|\n",
      "|2025-04-01|          Geothermal|  2021.1000022888184|\n",
      "|2025-04-01|  Hydro Run-of-River|  163559.99951171875|\n",
      "|2025-04-01|Hydro pumped storage|  112119.10014736652|\n",
      "+----------+--------------------+--------------------+\n",
      "only showing top 10 rows\n"
     ]
    }
   ],
   "source": [
    "# Trend of daily public net electricity production in Germany for each production type.\n",
    "\n",
    "daily_trend = spark.sql(\"\"\"\n",
    "    SELECT\n",
    "        DATE(timestamp) as date,\n",
    "        production_type,\n",
    "        SUM(net_power_produced) AS daily_net_production\n",
    "    FROM energy.public_power_data\n",
    "    GROUP BY DATE(timestamp), production_type\n",
    "    ORDER BY date, production_type\n",
    "\"\"\")\n",
    "daily_trend.show(10)"
   ]
  },
  {
   "cell_type": "code",
   "execution_count": 8,
   "id": "c5d67dea",
   "metadata": {
    "execution": {
     "iopub.execute_input": "2025-06-29T17:22:21.363469Z",
     "iopub.status.busy": "2025-06-29T17:22:21.363243Z",
     "iopub.status.idle": "2025-06-29T17:22:23.204921Z",
     "shell.execute_reply": "2025-06-29T17:22:23.204637Z"
    },
    "papermill": {
     "duration": 1.847629,
     "end_time": "2025-06-29T17:22:23.205866",
     "exception": false,
     "start_time": "2025-06-29T17:22:21.358237",
     "status": "completed"
    },
    "tags": []
   },
   "outputs": [
    {
     "name": "stderr",
     "output_type": "stream",
     "text": [
      "\r",
      "[Stage 13:=====>                                                   (1 + 9) / 10]\r",
      "\r",
      "[Stage 13:==================================>                      (6 + 4) / 10]\r"
     ]
    },
    {
     "name": "stderr",
     "output_type": "stream",
     "text": [
      "\r",
      "[Stage 13:===================================================>     (9 + 1) / 10]\r"
     ]
    },
    {
     "name": "stdout",
     "output_type": "stream",
     "text": [
      "+--------------------+-------------------+-------------------+------------------+\n",
      "|     production_type|     interval_start|       interval_end|       total_power|\n",
      "+--------------------+-------------------+-------------------+------------------+\n",
      "|       Residual load|2025-04-01 00:00:00|2025-04-01 00:30:00|     79468.8984375|\n",
      "|          Fossil oil|2025-04-01 00:00:00|2025-04-01 00:30:00|             684.5|\n",
      "|Hydro pumped storage|2025-04-01 00:00:00|2025-04-01 00:30:00| 659.3000183105469|\n",
      "|    Fossil hard coal|2025-04-01 00:00:00|2025-04-01 00:30:00|  11579.2998046875|\n",
      "|               Waste|2025-04-01 00:00:00|2025-04-01 00:30:00|            1781.5|\n",
      "|        Wind onshore|2025-04-01 00:00:00|2025-04-01 00:30:00|  13683.7001953125|\n",
      "|Fossil coal-deriv...|2025-04-01 00:00:00|2025-04-01 00:30:00|1286.3999633789062|\n",
      "|Fossil brown coal...|2025-04-01 00:00:00|2025-04-01 00:30:00|  23208.2998046875|\n",
      "|             Biomass|2025-04-01 00:00:00|2025-04-01 00:30:00|            8042.0|\n",
      "|       Wind offshore|2025-04-01 00:00:00|2025-04-01 00:30:00|1679.7999877929688|\n",
      "+--------------------+-------------------+-------------------+------------------+\n",
      "only showing top 10 rows\n"
     ]
    },
    {
     "name": "stderr",
     "output_type": "stream",
     "text": [
      "\r",
      "                                                                                \r"
     ]
    }
   ],
   "source": [
    "# Prediction of underperformance of public net electricity on 30min intervals.\n",
    "unperform_prediction = spark.sql(\"\"\"\n",
    "    SELECT\n",
    "        production_type,\n",
    "        window.start AS interval_start,\n",
    "        window.end AS interval_end,\n",
    "        SUM(net_power_produced) AS total_power\n",
    "    FROM (\n",
    "        SELECT *, window(timestamp, '30 minutes') AS window\n",
    "        FROM energy.public_power_data\n",
    "    )\n",
    "    GROUP BY production_type, window\n",
    "    ORDER BY interval_start\n",
    "\"\"\")\n",
    "unperform_prediction.show(10)\n"
   ]
  },
  {
   "cell_type": "code",
   "execution_count": 9,
   "id": "31a84765",
   "metadata": {
    "execution": {
     "iopub.execute_input": "2025-06-29T17:22:23.217010Z",
     "iopub.status.busy": "2025-06-29T17:22:23.216833Z",
     "iopub.status.idle": "2025-06-29T17:22:24.144624Z",
     "shell.execute_reply": "2025-06-29T17:22:24.144329Z"
    },
    "papermill": {
     "duration": 0.934477,
     "end_time": "2025-06-29T17:22:24.145376",
     "exception": false,
     "start_time": "2025-06-29T17:22:23.210899",
     "status": "completed"
    },
    "tags": []
   },
   "outputs": [
    {
     "name": "stdout",
     "output_type": "stream",
     "text": [
      "+----------+---------------+-----------------+------------------+\n",
      "|      date|production_type|      total_power|         avg_price|\n",
      "+----------+---------------+-----------------+------------------+\n",
      "|2025-06-28|  Wind offshore|467266.4045410156| 94.47846048306197|\n",
      "|2025-06-28|   Wind onshore|  944764.98828125| 94.47846048306197|\n",
      "|2025-06-29|  Wind offshore|601184.8062133789|39.690943403415524|\n",
      "|2025-06-29|   Wind onshore|    2057580.40625|39.690943403415524|\n",
      "+----------+---------------+-----------------+------------------+\n",
      "\n"
     ]
    }
   ],
   "source": [
    "# Analysis of daily price against the net power for offshore and onshore wind (= production_type)\n",
    "\n",
    "price_vs_power = spark.sql(\"\"\"\n",
    "    SELECT\n",
    "        DATE(p.timestamp) AS date,\n",
    "        p.production_type,\n",
    "        SUM(p.net_power_produced) AS total_power,\n",
    "        AVG(pr.price) AS avg_price\n",
    "    FROM energy.public_power_data p\n",
    "    JOIN energy.price pr\n",
    "        ON p.timestamp = pr.timestamp\n",
    "    WHERE p.production_type IN ('Wind offshore', 'Wind onshore')\n",
    "    GROUP BY DATE(p.timestamp), p.production_type\n",
    "    ORDER BY date\n",
    "\"\"\")\n",
    "price_vs_power.show(10)"
   ]
  },
  {
   "cell_type": "markdown",
   "id": "3bd3e583",
   "metadata": {
    "papermill": {
     "duration": 0.006891,
     "end_time": "2025-06-29T17:22:24.161307",
     "exception": false,
     "start_time": "2025-06-29T17:22:24.154416",
     "status": "completed"
    },
    "tags": []
   },
   "source": [
    "## Ad-hoc analytics without creating tables"
   ]
  },
  {
   "cell_type": "code",
   "execution_count": 10,
   "id": "b9a9c0f8",
   "metadata": {
    "execution": {
     "iopub.execute_input": "2025-06-29T17:22:24.173292Z",
     "iopub.status.busy": "2025-06-29T17:22:24.173143Z",
     "iopub.status.idle": "2025-06-29T17:22:24.174774Z",
     "shell.execute_reply": "2025-06-29T17:22:24.174541Z"
    },
    "papermill": {
     "duration": 0.007292,
     "end_time": "2025-06-29T17:22:24.175629",
     "exception": false,
     "start_time": "2025-06-29T17:22:24.168337",
     "status": "completed"
    },
    "tags": []
   },
   "outputs": [],
   "source": [
    "#public_power = spark.read.format(\"delta\").load(f\"{proj_dir}/data/silver/public_power_data\")  \n",
    "#price = spark.read.format(\"delta\").load(f\"{proj_dir}/data/silver/price_data\")   \n",
    "#installed_power = spark.read.format(\"delta\").load(f\"{proj_dir}/data/silver/installed_power_data\")  "
   ]
  },
  {
   "cell_type": "code",
   "execution_count": 11,
   "id": "45124dcf",
   "metadata": {
    "execution": {
     "iopub.execute_input": "2025-06-29T17:22:24.188219Z",
     "iopub.status.busy": "2025-06-29T17:22:24.188035Z",
     "iopub.status.idle": "2025-06-29T17:22:24.189832Z",
     "shell.execute_reply": "2025-06-29T17:22:24.189592Z"
    },
    "papermill": {
     "duration": 0.010009,
     "end_time": "2025-06-29T17:22:24.190529",
     "exception": false,
     "start_time": "2025-06-29T17:22:24.180520",
     "status": "completed"
    },
    "tags": []
   },
   "outputs": [],
   "source": [
    "#public_power.createOrReplaceTempView(\"net_power\")\n",
    "#price.createOrReplaceTempView(\"price\")\n",
    "#installed_power.createOrReplaceTempView(\"installed_power\")\n"
   ]
  }
 ],
 "metadata": {
  "kernelspec": {
   "display_name": "energy",
   "language": "python",
   "name": "python3"
  },
  "language_info": {
   "codemirror_mode": {
    "name": "ipython",
    "version": 3
   },
   "file_extension": ".py",
   "mimetype": "text/x-python",
   "name": "python",
   "nbconvert_exporter": "python",
   "pygments_lexer": "ipython3",
   "version": "3.11.13"
  },
  "papermill": {
   "default_parameters": {},
   "duration": 21.02568,
   "end_time": "2025-06-29T17:22:25.927782",
   "environment_variables": {},
   "exception": null,
   "input_path": "/Users/zodenath/Desktop/projects/energy-proj/notebooks/bi_analytics.ipynb",
   "output_path": "/Users/zodenath/Desktop/projects/energy-proj/output/out_BI_2025-06-29.ipynb",
   "parameters": {},
   "start_time": "2025-06-29T17:22:04.902102",
   "version": "2.6.0"
  }
 },
 "nbformat": 4,
 "nbformat_minor": 5
}